{
 "cells": [
  {
   "cell_type": "code",
   "execution_count": 1,
   "metadata": {
    "collapsed": false
   },
   "outputs": [
    {
     "name": "stderr",
     "output_type": "stream",
     "text": [
      "C:\\Program Files\\Anaconda3\\lib\\site-packages\\sklearn\\cross_validation.py:44: DeprecationWarning: This module was deprecated in version 0.18 in favor of the model_selection module into which all the refactored classes and functions are moved. Also note that the interface of the new CV iterators are different from that of this module. This module will be removed in 0.20.\n",
      "  \"This module will be removed in 0.20.\", DeprecationWarning)\n"
     ]
    }
   ],
   "source": [
    "# importing all the libraries that will be required for this project\n",
    "import cv2\n",
    "import numpy as np\n",
    "import matplotlib.pyplot as plt\n",
    "import matplotlib.image as mpimg\n",
    "import glob\n",
    "import time\n",
    "\n",
    "from all_methods import *\n",
    "from skimage.feature import hog\n",
    "from sklearn.preprocessing import StandardScaler\n",
    "from sklearn.cross_validation import train_test_split\n",
    "from sklearn.svm import LinearSVC"
   ]
  },
  {
   "cell_type": "code",
   "execution_count": 2,
   "metadata": {
    "collapsed": false
   },
   "outputs": [
    {
     "name": "stdout",
     "output_type": "stream",
     "text": [
      "8792 8968\n"
     ]
    }
   ],
   "source": [
    "# Reading vehicle and non-vehicle images and gettig a sense of the data\n",
    "all_cars = glob.glob('training_samples/vehicles/*/*.png')\n",
    "all_non_cars = glob.glob('training_samples/non-vehicles/*/*.png')\n",
    "print(len(all_cars), len(all_non_cars))"
   ]
  },
  {
   "cell_type": "code",
   "execution_count": 3,
   "metadata": {
    "collapsed": true
   },
   "outputs": [],
   "source": [
    "# parameters for extracting the features\n",
    "colorspace = 'HLS'\n",
    "orient = 9\n",
    "pix_per_cell = 16  # 8 gives out accuracy of 0.99 and 4 gives out accuracy of 1.0\n",
    "cell_per_block =2\n",
    "hog_channel = 'ALL'"
   ]
  },
  {
   "cell_type": "code",
   "execution_count": 4,
   "metadata": {
    "collapsed": false
   },
   "outputs": [
    {
     "name": "stdout",
     "output_type": "stream",
     "text": [
      "48.89 Seconds to extract HOG features...\n",
      "8792 8968\n"
     ]
    }
   ],
   "source": [
    "# extracting features for cars and not-car images\n",
    "t=time.time()\n",
    "car_features = extract_features(all_cars, color_space=colorspace, orient=orient, \n",
    "                        pix_per_cell=pix_per_cell, cell_per_block=cell_per_block, \n",
    "                        hog_channel=hog_channel)\n",
    "notcar_features = extract_features(all_non_cars, color_space=colorspace, orient=orient, \n",
    "                        pix_per_cell=pix_per_cell, cell_per_block=cell_per_block, \n",
    "                        hog_channel=hog_channel)\n",
    "t2 = time.time()\n",
    "\n",
    "print(round(t2-t, 2), 'Seconds to extract HOG features...')\n",
    "print(len(car_features), len(notcar_features))"
   ]
  },
  {
   "cell_type": "code",
   "execution_count": 5,
   "metadata": {
    "collapsed": false
   },
   "outputs": [
    {
     "name": "stdout",
     "output_type": "stream",
     "text": [
      "(17760, 4140)\n"
     ]
    }
   ],
   "source": [
    "# Stacking all the feature vectors for cars and non-car images.\n",
    "# And then normalizing them all so that one feature doesnt become dominant in classification\n",
    "X = np.vstack((car_features, notcar_features)).astype(np.float64)\n",
    "X_scalar = StandardScaler().fit(X)\n",
    "scaled_X = X_scalar.transform(X)\n",
    "print(scaled_X.shape)\n",
    "\n",
    "# creating the labels vectors for cars and non-cars images\n",
    "y = np.hstack((np.ones(len(car_features)), np.zeros(len(notcar_features))))"
   ]
  },
  {
   "cell_type": "code",
   "execution_count": null,
   "metadata": {
    "collapsed": true
   },
   "outputs": [],
   "source": []
  }
 ],
 "metadata": {
  "anaconda-cloud": {},
  "kernelspec": {
   "display_name": "Python [default]",
   "language": "python",
   "name": "python3"
  },
  "language_info": {
   "codemirror_mode": {
    "name": "ipython",
    "version": 3
   },
   "file_extension": ".py",
   "mimetype": "text/x-python",
   "name": "python",
   "nbconvert_exporter": "python",
   "pygments_lexer": "ipython3",
   "version": "3.5.2"
  }
 },
 "nbformat": 4,
 "nbformat_minor": 1
}
